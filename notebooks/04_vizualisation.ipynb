{
 "cells": [
  {
   "cell_type": "code",
   "execution_count": null,
   "metadata": {},
   "outputs": [],
   "source": [
    "    # # 04 Visualization\n",
    "    \n",
    "    # ## Imports\n",
    "    \n",
    "    import pandas as pd\n",
    "    from src.visualization import plot_sentiment_distribution, plot_sentiment_over_time, generate_wordcloud\n",
    "    \n",
    "    # ## Load Data\n",
    "    \n",
    "    # Load data from the previous step (assuming you saved it).\n",
    "    # df = pd.read_csv(\"data/processed/processed_tweets.csv\")\n",
    "    \n",
    "    # OR re-run sentiment analysis notebook\n",
    "    \n",
    "    from src.data_collection import get_tweets, tweets_to_dataframe\n",
    "    from src.preprocessing import preprocess_tweet\n",
    "    from src.sentiment_analysis import get_sentiment\n",
    "    from config import TOPIC\n",
    "    \n",
    "    tweets = get_tweets(TOPIC, count=100)\n",
    "    df = tweets_to_dataframe(tweets)\n",
    "    df['processed_text'] = df['text'].apply(preprocess_tweet)\n",
    "    df['sentiment'] = df['processed_text'].apply(get_sentiment)\n",
    "    df['sentiment_label'] = df['sentiment'].apply(lambda x: x['label'])\n",
    "    df['sentiment_score'] = df['sentiment'].apply(lambda x: x['score'])\n",
    "    \n",
    "    # ## Visualizations\n",
    "    \n",
    "    # ### Sentiment Distribution\n",
    "    plot_sentiment_distribution(df)\n",
    "    \n",
    "    # ### Sentiment Over Time\n",
    "    plot_sentiment_over_time(df)\n",
    "    \n",
    "    # ### Word Clouds\n",
    "    generate_wordcloud(df, 'positive', 'positive_wordcloud.png')\n",
    "    generate_wordcloud(df, 'negative', 'negative_wordcloud.png')"
   ]
  }
 ],
 "metadata": {
  "language_info": {
   "name": "python"
  }
 },
 "nbformat": 4,
 "nbformat_minor": 2
}
