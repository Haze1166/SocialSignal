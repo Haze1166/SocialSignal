{
 "cells": [
  {
   "cell_type": "code",
   "execution_count": null,
   "metadata": {},
   "outputs": [],
   "source": [
    "# # 02 Data Preprocessing\n",
    "\n",
    "# This notebook demonstrates the data preprocessing steps.\n",
    "\n",
    "# ## Imports\n",
    "import pandas as pd\n",
    "from src.preprocessing import preprocess_tweet\n",
    "import nltk\n",
    "nltk.download('stopwords')\n",
    "nltk.download('punkt')\n",
    "\n",
    "# ## Load Data\n",
    "\n",
    "# Load data from the previous step (assuming you saved it):\n",
    "# df = pd.read_csv(\"data/raw/tweets.csv\")\n",
    "# OR, if you didn't save it, re-run the data collection:\n",
    "\n",
    "from src.data_collection import get_tweets, tweets_to_dataframe\n",
    "from config import TOPIC\n",
    "\n",
    "tweets = get_tweets(TOPIC, count=100)  # Fetch 100 tweets\n",
    "df = tweets_to_dataframe(tweets)\n",
    "\n",
    "# ## Preprocessing\n",
    "\n",
    "# Apply the `preprocess_tweet` function to the 'text' column:\n",
    "df['processed_text'] = df['text'].apply(preprocess_tweet)\n",
    "df[['text', 'processed_text']].head()\n",
    "\n",
    "# ## Save Processed Data (Optional)\n",
    "# df.to_csv(\"data/processed/processed_tweets.csv\", index=False)"
   ]
  }
 ],
 "metadata": {
  "language_info": {
   "name": "python"
  }
 },
 "nbformat": 4,
 "nbformat_minor": 2
}
