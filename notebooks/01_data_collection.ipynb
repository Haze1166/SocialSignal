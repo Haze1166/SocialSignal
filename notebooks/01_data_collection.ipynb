{
 "cells": [
  {
   "cell_type": "code",
   "execution_count": 1,
   "metadata": {},
   "outputs": [
    {
     "ename": "ModuleNotFoundError",
     "evalue": "No module named 'dotenv'",
     "output_type": "error",
     "traceback": [
      "\u001b[0;31m---------------------------------------------------------------------------\u001b[0m",
      "\u001b[0;31mModuleNotFoundError\u001b[0m                       Traceback (most recent call last)",
      "Cell \u001b[0;32mIn[1], line 15\u001b[0m\n\u001b[1;32m      1\u001b[0m \u001b[38;5;66;03m# # 01 Data Collection\u001b[39;00m\n\u001b[1;32m      2\u001b[0m \n\u001b[1;32m      3\u001b[0m \u001b[38;5;66;03m# This notebook demonstrates the data collection process using Tweepy.\u001b[39;00m\n\u001b[0;32m   (...)\u001b[0m\n\u001b[1;32m     12\u001b[0m \n\u001b[1;32m     13\u001b[0m \u001b[38;5;66;03m# ## Imports\u001b[39;00m\n\u001b[1;32m     14\u001b[0m \u001b[38;5;28;01mimport\u001b[39;00m \u001b[38;5;21;01mos\u001b[39;00m \u001b[38;5;66;03m#import os\u001b[39;00m\n\u001b[0;32m---> 15\u001b[0m \u001b[38;5;28;01mfrom\u001b[39;00m \u001b[38;5;21;01mdotenv\u001b[39;00m \u001b[38;5;28;01mimport\u001b[39;00m load_dotenv \u001b[38;5;66;03m#import load_dotenv\u001b[39;00m\n\u001b[1;32m     16\u001b[0m load_dotenv() \u001b[38;5;66;03m# load the .env file.\u001b[39;00m\n\u001b[1;32m     17\u001b[0m \u001b[38;5;28;01mimport\u001b[39;00m \u001b[38;5;21;01mtweepy\u001b[39;00m\n",
      "\u001b[0;31mModuleNotFoundError\u001b[0m: No module named 'dotenv'"
     ]
    }
   ],
   "source": [
    "# # 01 Data Collection\n",
    "\n",
    "# This notebook demonstrates the data collection process using Tweepy.\n",
    "\n",
    "# ## Setup\n",
    "\n",
    "# First, install the required libraries:\n",
    "# ```bash\n",
    "# pip install -r requirements.txt\n",
    "# ```\n",
    "# Make sure you have your Twitter API credentials set up in a `.env` file.\n",
    "\n",
    "# ## Imports\n",
    "import os #import os\n",
    "from dotenv import load_dotenv #import load_dotenv\n",
    "load_dotenv() # load the .env file.\n",
    "import tweepy\n",
    "import pandas as pd\n",
    "from src.data_collection import get_tweets, tweets_to_dataframe  # Import from your src\n",
    "from config import TOPIC\n",
    "\n",
    "# ## Data Collection\n",
    "\n",
    "# We use the `get_tweets` function from our `data_collection` module.\n",
    "tweets = get_tweets(TOPIC, count=100)  # Fetch 100 tweets\n",
    "print(f\"Collected {len(tweets)} tweets.\")\n",
    "\n",
    "# ## Convert to DataFrame\n",
    "\n",
    "# Convert the tweets to a Pandas DataFrame for easier analysis:\n",
    "df = tweets_to_dataframe(tweets)\n",
    "df.head()\n",
    "\n",
    "# ## Save Data (Optional)\n",
    "\n",
    "# You can save the raw data to a CSV file:\n",
    "# df.to_csv(\"data/raw/tweets.csv\", index=False)  # Uncomment to save"
   ]
  }
 ],
 "metadata": {
  "kernelspec": {
   "display_name": "Python 3",
   "language": "python",
   "name": "python3"
  },
  "language_info": {
   "codemirror_mode": {
    "name": "ipython",
    "version": 3
   },
   "file_extension": ".py",
   "mimetype": "text/x-python",
   "name": "python",
   "nbconvert_exporter": "python",
   "pygments_lexer": "ipython3",
   "version": "3.12.1"
  }
 },
 "nbformat": 4,
 "nbformat_minor": 2
}
