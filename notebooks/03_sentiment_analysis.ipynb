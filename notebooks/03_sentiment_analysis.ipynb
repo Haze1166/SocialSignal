{
 "cells": [
  {
   "cell_type": "code",
   "execution_count": null,
   "metadata": {},
   "outputs": [],
   "source": [
    "    # # 03 Sentiment Analysis\n",
    "    \n",
    "    # ## Imports\n",
    "    import pandas as pd\n",
    "    from src.sentiment_analysis import get_sentiment\n",
    "    \n",
    "    \n",
    "    # ## Load Data\n",
    "    \n",
    "    # Load data from the previous step (assuming you saved it):\n",
    "    # df = pd.read_csv(\"data/processed/processed_tweets.csv\")\n",
    "    \n",
    "    #OR re-run the preprocessing part\n",
    "    from src.data_collection import get_tweets, tweets_to_dataframe\n",
    "    from src.preprocessing import preprocess_tweet\n",
    "    from config import TOPIC\n",
    "    \n",
    "    tweets = get_tweets(TOPIC, count = 100)\n",
    "    df = tweets_to_dataframe(tweets)\n",
    "    df['processed_text'] = df['text'].apply(preprocess_tweet)\n",
    "    \n",
    "    # ## Sentiment Analysis\n",
    "    \n",
    "    # Apply the `get_sentiment` function:\n",
    "    df['sentiment'] = df['processed_text'].apply(get_sentiment)\n",
    "    \n",
    "    # Expand into separate columns:\n",
    "    df['sentiment_label'] = df['sentiment'].apply(lambda x: x['label'])\n",
    "    df['sentiment_score'] = df['sentiment'].apply(lambda x: x['score'])\n",
    "    \n",
    "    df[['processed_text', 'sentiment_label', 'sentiment_score']].head()"
   ]
  }
 ],
 "metadata": {
  "language_info": {
   "name": "python"
  }
 },
 "nbformat": 4,
 "nbformat_minor": 2
}
